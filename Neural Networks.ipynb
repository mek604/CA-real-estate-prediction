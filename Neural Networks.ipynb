{
 "cells": [
  {
   "cell_type": "markdown",
   "metadata": {},
   "source": [
    "<a id='top'></a>\n",
    "# <font color='blue'> ANN - Canada Real Estate </font>\n",
    "\n",
    "Links to section:\n",
    "\n",
    "+ [Preprocessing](#preproc)\n",
    "\n",
    "+ [MLP Neural Networks](#neural)\n",
    "\n",
    "+ [GridSearch C.V.](#grid_search)\n",
    "\n",
    "+ [Notes](#notes)\n",
    "\n",
    "+ [Keras](#keras)"
   ]
  },
  {
   "cell_type": "code",
   "execution_count": 1,
   "metadata": {
    "scrolled": true
   },
   "outputs": [
    {
     "name": "stderr",
     "output_type": "stream",
     "text": [
      "/home/matt/anaconda3/lib/python3.7/site-packages/IPython/core/interactiveshell.py:3063: DtypeWarning: Columns (34) have mixed types.Specify dtype option on import or set low_memory=False.\n",
      "  interactivity=interactivity, compiler=compiler, result=result)\n"
     ]
    },
    {
     "name": "stdout",
     "output_type": "stream",
     "text": [
      "price\n",
      "1     8573\n",
      "2    11067\n",
      "3    10965\n",
      "4     6547\n",
      "dtype: int64\n"
     ]
    }
   ],
   "source": [
    "import numpy as np\n",
    "import pandas as pd\n",
    "import matplotlib.pyplot as plt\n",
    "from sklearn.neural_network import MLPClassifier\n",
    "from sklearn.model_selection import train_test_split\n",
    "from sklearn.metrics import confusion_matrix\n",
    "import seaborn as sn\n",
    "import re\n",
    "\n",
    "\n",
    "cols = ['price', 'sqft', 'bed', 'bath', 'property type', 'year built', 'stories', 'city', 'postal code']\n",
    "\n",
    "df = pd.read_csv('real_estate_listing.csv', usecols=cols)\n",
    "\n",
    "# Integrating Connor's preprocessing\n",
    "prop_types = {\n",
    "    'Single Family': 0,\n",
    "    'Multi-Family': 1,\n",
    "    'Condo': 2,\n",
    "    'Townhome': 3,\n",
    "    'Duplex': 4,\n",
    "    'Manufactured Home': 5,\n",
    "    'Mobile Home': 6,\n",
    "    'Farm': 7\n",
    "}\n",
    "# Encode `property type`\n",
    "df['property type'] = df['property type'].map(prop_types)\n",
    "\n",
    "# format `prices` into integers \n",
    "df['price'] = df['price'].str.replace(',','').str.replace('$','').str.replace('\"','')\n",
    "df['price'] = df['price'].str.replace(\"[\",'').str.replace(\"]\",'').str.replace(\"'\",'')\n",
    "df['price'] = df['price'].astype(int)\n",
    "# remove all property price less than $10,000 \n",
    "# some entries might be for-rent instead of for-sale or trailer park\n",
    "indexes = df[ df['price'] <= 10000 ].index\n",
    "df.drop(indexes, inplace=True)\n",
    "# encode `prices`\n",
    "for i in range(21):\n",
    "    df['price'] = df['price'].mask(df['price'] > ((20-i)*100000)+25, 20-i)\n",
    "\n",
    "# format `sqft` (of living area) column\n",
    "df['sqft'] = df['sqft'].str.replace('sqft', '').str.replace('SQFT', '').str.replace(' ', '')\n",
    "df['sqft'] = df['sqft'].replace('[0-9].*-', '', regex=True)\n",
    "df['sqft'] = df['sqft'].replace('m.*', '', regex=True)\n",
    "df['sqft'] = df['sqft'].str.replace('+', '')\n",
    "\n",
    "# format `stories` column \n",
    "df['stories'] = df['stories'].replace('[^0-9].*','', regex=True)\n",
    "df['stories'] = df['stories'].str.replace('[.].*','', regex=True)\n",
    "df['stories'] = df['stories'].replace('', np.nan)\n",
    "df['stories'] = df['stories'].astype(float)\n",
    "indexes = df[ df['stories'] > 5 ].index\n",
    "df.drop(indexes , inplace=True)\n",
    "\n",
    "# remove much older properties\n",
    "indexes = df[ df['year built'] <= 1600 ].index\n",
    "df.drop(indexes , inplace=True)\n",
    "    \n",
    "\n",
    "# Could affect farm if removing bath = 0 and bed = 0\n",
    "# indexes = df2[ df2['bath'] < 1 ].index\n",
    "# df2.drop(indexes , inplace=True)\n",
    "\n",
    "# indexes = df2[ df2['bed'] < 1 ].index\n",
    "# df2.drop(indexes , inplace=True)\n",
    "\n",
    "# ---------------------------------------------------------------\n",
    "# Selecting the number of labels (classes) to predict by grouping\n",
    "# without grouping, there are classes from 0 to 20\n",
    "# grouping:\n",
    "df['price'].replace([0,1], 1, inplace=True)\n",
    "df['price'].replace([2,3], 2, inplace=True)\n",
    "df['price'].replace([4,5,6,7], 3, inplace=True)\n",
    "df['price'].replace([range(8,21)], 4, inplace=True)\n",
    "\n",
    "\n",
    "sizes = df.groupby('price').size()\n",
    "print(sizes)\n"
   ]
  },
  {
   "cell_type": "code",
   "execution_count": 2,
   "metadata": {},
   "outputs": [
    {
     "data": {
      "text/plain": [
       "<matplotlib.axes._subplots.AxesSubplot at 0x7fdd8947dd50>"
      ]
     },
     "execution_count": 2,
     "metadata": {},
     "output_type": "execute_result"
    },
    {
     "data": {
      "image/png": "[encoded data removed]",
      "text/plain": [
       "<Figure size 432x288 with 1 Axes>"
      ]
     },
     "metadata": {
      "needs_background": "light"
     },
     "output_type": "display_data"
    }
   ],
   "source": [
    "plt.xlabel('Price Label')\n",
    "plt.ylabel('Frequency')\n",
    "plt.title('Price Label Histogram')\n",
    "df['price'].hist()\n",
    "# ylabel='Frequency', title='Price Class Histogram'\n"
   ]
  },
  {
   "cell_type": "markdown",
   "metadata": {},
   "source": [
    "## Encode Features"
   ]
  },
  {
   "cell_type": "code",
   "execution_count": 12,
   "metadata": {
    "scrolled": true
   },
   "outputs": [
    {
     "name": "stdout",
     "output_type": "stream",
     "text": [
      "[ 8  7  9 10 11  1 15  2 12 16 14  0  3 13]\n"
     ]
    },
    {
     "data": {
      "text/plain": [
       "array([[<matplotlib.axes._subplots.AxesSubplot object at 0x7fdd75744c90>,\n",
       "        <matplotlib.axes._subplots.AxesSubplot object at 0x7fdd7572f890>,\n",
       "        <matplotlib.axes._subplots.AxesSubplot object at 0x7fdd75721d10>],\n",
       "       [<matplotlib.axes._subplots.AxesSubplot object at 0x7fdd75716f10>,\n",
       "        <matplotlib.axes._subplots.AxesSubplot object at 0x7fdd7570d090>,\n",
       "        <matplotlib.axes._subplots.AxesSubplot object at 0x7fdd77d21f10>],\n",
       "       [<matplotlib.axes._subplots.AxesSubplot object at 0x7fdd77d2f490>,\n",
       "        <matplotlib.axes._subplots.AxesSubplot object at 0x7fdd77d58c50>,\n",
       "        <matplotlib.axes._subplots.AxesSubplot object at 0x7fdd77d58c10>]],\n",
       "      dtype=object)"
      ]
     },
     "execution_count": 12,
     "metadata": {},
     "output_type": "execute_result"
    },
    {
     "data": {
      "image/png": "[encoded data removed]",
      "text/plain": [
       "<Figure size 720x720 with 9 Axes>"
      ]
     },
     "metadata": {
      "needs_background": "light"
     },
     "output_type": "display_data"
    }
   ],
   "source": [
    "# Integrating Naomi's preprocessing\n",
    "# 1. convert the `postal code` column into `capital`\n",
    "# 2. encode `city` column (list of strings) into integers\n",
    "\n",
    "#https://www.citypopulation.de/en/canada/cities/\n",
    "# capitals = [\n",
    "#     'Edmonton', # Alberta\n",
    "#     'Victoria', # BC\n",
    "#     'Ottawa', # Canada\n",
    "#     'Whitehorse', # Yukon\n",
    "#     'Regina', # Saskatchewan\n",
    "#     'Quebec', # Montréal\n",
    "#     'Charlottetown', # Prince Edward Island\n",
    "#     'Toronto', # Ontario\n",
    "#     'Iqalit', # Nunavut \n",
    "#     'Halifax', # Nova Scotia\n",
    "#     'Yellowknife', # Northwest Territories \n",
    "#     \"St. John's\", # Newfoundland and Labrador\n",
    "#     'Fredericton', # New Brunswick\n",
    "#     'Winnipeg' # Manitoba\n",
    "# ]\n",
    "\n",
    "#---------------- encode city column ----------------------\n",
    "indexNames = df[ df['city'] == np.nan ].index\n",
    "df.drop(indexNames , inplace=True)\n",
    "\n",
    "df['city'] = df['city'].str.lower()\n",
    "len(df['city'].unique())\n",
    "j=df['city'].unique()\n",
    "je=df['city'].unique()\n",
    "for x in range(len(df['city'].unique())):\n",
    "    j[x]=x\n",
    "j\n",
    "r=dict(zip(je,j ))\n",
    "df.replace({\"city\": r}, inplace=True)\n",
    "#----------------------------------------------------------\n",
    "\n",
    "\n",
    "#https://www150.statcan.gc.ca/n1/pub/92-195-x/2011001/other-autre/pc-cp/tbl/tbl9-eng.htm\n",
    "\n",
    "provinces = {\n",
    "    'A': 0, #'Newfoundland and Labrador',\n",
    "    'B': 1, #'Nova Scotia',\n",
    "    'C': 2, #'Prince Edward Island',\n",
    "    'E': 3, #'New Brunswick',\n",
    "    'G': 4, #'Eastern Quebec',\n",
    "    'H': 5, #'Metropolitan Montréal',\n",
    "    'J': 6, #'Western Quebec',\n",
    "    'K': 7, #'Eastern Ontario',\n",
    "    'L': 8, #'Central Ontario',\n",
    "    'M': 9, #'Metropolitan Toronto',\n",
    "    'N': 10, #'Southwestern Ontario',\n",
    "    'P': 11, #'Northern Ontario',\n",
    "    'R': 12, #'Manitoba',\n",
    "    'S': 13, #'Saskatchewan',\n",
    "    'T': 14, #'Alberta',\n",
    "    'V': 15, #'British Columbia',\n",
    "    'X': 16, #'Northwest Territories and Nunavut',\n",
    "    'Y': 17 #'Yukon'\n",
    "}\n",
    "\n",
    "\n",
    "for p in provinces:\n",
    "    df.loc[df['postal code'].str.startswith(p, na=False), 'postal code'] = provinces[p]\n",
    "    \n",
    "df['postal code'].unique()\n",
    "\n",
    "\n",
    "# remove the failed-to-encode rows\n",
    "df.drop(df[ \n",
    "    (df['postal code'] == 'Innisfil') | \n",
    "    (df['postal code'] == 'ON, ') # This drops 1442 entries\n",
    "].index, inplace=True)\n",
    "\n",
    "indexes = df[ df['postal code'] == 'Fairmont/Columbia Lake, '].index\n",
    "df.drop(indexes , inplace=True)\n",
    "indexes = df[ df['postal code'] == 'Qualicum Beach, '].index\n",
    "df.drop(indexes , inplace=True)\n",
    "indexes = df[ df['postal code'] == 'Whitecourt Rural, '].index\n",
    "df.drop(indexes , inplace=True)\n",
    "indexes = df[ df['postal code'] == 'O0O 0O0'].index\n",
    "df.drop(indexes , inplace=True)\n",
    "df['postal code'] = df['postal code'].astype(int)\n",
    "\n",
    "print(df['postal code'].unique())\n",
    "df.hist(figsize=(10,10), color='r')"
   ]
  },
  {
   "cell_type": "code",
   "execution_count": 14,
   "metadata": {},
   "outputs": [
    {
     "data": {
      "text/html": [
       "<div>\n",
       "<style scoped>\n",
       "    .dataframe tbody tr th:only-of-type {\n",
       "        vertical-align: middle;\n",
       "    }\n",
       "\n",
       "    .dataframe tbody tr th {\n",
       "        vertical-align: top;\n",
       "    }\n",
       "\n",
       "    .dataframe thead th {\n",
       "        text-align: right;\n",
       "    }\n",
       "</style>\n",
       "<table border=\"1\" class=\"dataframe\">\n",
       "  <thead>\n",
       "    <tr style=\"text-align: right;\">\n",
       "      <th></th>\n",
       "      <th>bath</th>\n",
       "      <th>bed</th>\n",
       "      <th>city</th>\n",
       "      <th>postal code</th>\n",
       "      <th>price</th>\n",
       "      <th>property type</th>\n",
       "      <th>sqft</th>\n",
       "      <th>stories</th>\n",
       "      <th>year built</th>\n",
       "    </tr>\n",
       "  </thead>\n",
       "  <tbody>\n",
       "    <tr>\n",
       "      <th>count</th>\n",
       "      <td>23891.000000</td>\n",
       "      <td>23930.000000</td>\n",
       "      <td>24024.000000</td>\n",
       "      <td>24024.000000</td>\n",
       "      <td>24024.000000</td>\n",
       "      <td>23989.000000</td>\n",
       "      <td>24024.000000</td>\n",
       "      <td>168.000000</td>\n",
       "      <td>22808.000000</td>\n",
       "    </tr>\n",
       "    <tr>\n",
       "      <th>mean</th>\n",
       "      <td>2.040768</td>\n",
       "      <td>3.109319</td>\n",
       "      <td>672.368506</td>\n",
       "      <td>12.239469</td>\n",
       "      <td>2.447552</td>\n",
       "      <td>1.026846</td>\n",
       "      <td>1577.202560</td>\n",
       "      <td>1.619048</td>\n",
       "      <td>1991.853648</td>\n",
       "    </tr>\n",
       "    <tr>\n",
       "      <th>std</th>\n",
       "      <td>0.886017</td>\n",
       "      <td>1.286883</td>\n",
       "      <td>321.511943</td>\n",
       "      <td>4.768597</td>\n",
       "      <td>0.950901</td>\n",
       "      <td>1.465186</td>\n",
       "      <td>816.014037</td>\n",
       "      <td>0.645663</td>\n",
       "      <td>25.054543</td>\n",
       "    </tr>\n",
       "    <tr>\n",
       "      <th>min</th>\n",
       "      <td>0.000000</td>\n",
       "      <td>0.000000</td>\n",
       "      <td>0.000000</td>\n",
       "      <td>0.000000</td>\n",
       "      <td>1.000000</td>\n",
       "      <td>0.000000</td>\n",
       "      <td>102.000000</td>\n",
       "      <td>1.000000</td>\n",
       "      <td>1741.000000</td>\n",
       "    </tr>\n",
       "    <tr>\n",
       "      <th>25%</th>\n",
       "      <td>1.000000</td>\n",
       "      <td>2.000000</td>\n",
       "      <td>320.000000</td>\n",
       "      <td>13.000000</td>\n",
       "      <td>2.000000</td>\n",
       "      <td>0.000000</td>\n",
       "      <td>1014.000000</td>\n",
       "      <td>1.000000</td>\n",
       "      <td>1977.000000</td>\n",
       "    </tr>\n",
       "    <tr>\n",
       "      <th>50%</th>\n",
       "      <td>2.000000</td>\n",
       "      <td>3.000000</td>\n",
       "      <td>757.000000</td>\n",
       "      <td>14.000000</td>\n",
       "      <td>2.000000</td>\n",
       "      <td>0.000000</td>\n",
       "      <td>1349.000000</td>\n",
       "      <td>2.000000</td>\n",
       "      <td>1998.000000</td>\n",
       "    </tr>\n",
       "    <tr>\n",
       "      <th>75%</th>\n",
       "      <td>2.000000</td>\n",
       "      <td>4.000000</td>\n",
       "      <td>925.000000</td>\n",
       "      <td>15.000000</td>\n",
       "      <td>3.000000</td>\n",
       "      <td>2.000000</td>\n",
       "      <td>1968.962500</td>\n",
       "      <td>2.000000</td>\n",
       "      <td>2012.000000</td>\n",
       "    </tr>\n",
       "    <tr>\n",
       "      <th>max</th>\n",
       "      <td>11.000000</td>\n",
       "      <td>16.000000</td>\n",
       "      <td>1240.000000</td>\n",
       "      <td>16.000000</td>\n",
       "      <td>4.000000</td>\n",
       "      <td>6.000000</td>\n",
       "      <td>9000.000000</td>\n",
       "      <td>5.000000</td>\n",
       "      <td>2024.000000</td>\n",
       "    </tr>\n",
       "  </tbody>\n",
       "</table>\n",
       "</div>"
      ],
      "text/plain": [
       "               bath           bed          city   postal code         price  \\\n",
       "count  23891.000000  23930.000000  24024.000000  24024.000000  24024.000000   \n",
       "mean       2.040768      3.109319    672.368506     12.239469      2.447552   \n",
       "std        0.886017      1.286883    321.511943      4.768597      0.950901   \n",
       "min        0.000000      0.000000      0.000000      0.000000      1.000000   \n",
       "25%        1.000000      2.000000    320.000000     13.000000      2.000000   \n",
       "50%        2.000000      3.000000    757.000000     14.000000      2.000000   \n",
       "75%        2.000000      4.000000    925.000000     15.000000      3.000000   \n",
       "max       11.000000     16.000000   1240.000000     16.000000      4.000000   \n",
       "\n",
       "       property type          sqft     stories    year built  \n",
       "count   23989.000000  24024.000000  168.000000  22808.000000  \n",
       "mean        1.026846   1577.202560    1.619048   1991.853648  \n",
       "std         1.465186    816.014037    0.645663     25.054543  \n",
       "min         0.000000    102.000000    1.000000   1741.000000  \n",
       "25%         0.000000   1014.000000    1.000000   1977.000000  \n",
       "50%         0.000000   1349.000000    2.000000   1998.000000  \n",
       "75%         2.000000   1968.962500    2.000000   2012.000000  \n",
       "max         6.000000   9000.000000    5.000000   2024.000000  "
      ]
     },
     "execution_count": 14,
     "metadata": {},
     "output_type": "execute_result"
    }
   ],
   "source": [
    "df.describe()"
   ]
  },
  {
   "cell_type": "markdown",
   "metadata": {},
   "source": [
    "<a id='preproc'></a>\n",
    "## Data Preprocessing\n",
    "\n",
    "[top of page](#top)\n"
   ]
  },
  {
   "cell_type": "code",
   "execution_count": 15,
   "metadata": {},
   "outputs": [
    {
     "data": {
      "text/plain": [
       "Index(['bath', 'bed', 'city', 'postal code', 'price', 'property type', 'sqft',\n",
       "       'stories', 'year built'],\n",
       "      dtype='object')"
      ]
     },
     "execution_count": 15,
     "metadata": {},
     "output_type": "execute_result"
    }
   ],
   "source": [
    "df.columns"
   ]
  },
  {
   "cell_type": "code",
   "execution_count": 16,
   "metadata": {
    "scrolled": true
   },
   "outputs": [
    {
     "name": "stdout",
     "output_type": "stream",
     "text": [
      "(24024, 9)\n",
      "(24024, 9)\n"
     ]
    }
   ],
   "source": [
    "print(df.shape)\n",
    "\n",
    "df.drop(df[ \n",
    "    (df['year built'] == 553) | \n",
    "    (df['year built'] == 1021)\n",
    "].index, inplace=True)\n",
    "\n",
    "print(df.shape)"
   ]
  },
  {
   "cell_type": "code",
   "execution_count": 17,
   "metadata": {},
   "outputs": [],
   "source": [
    "df.dropna(subset = ['sqft'], inplace=True)\n",
    "df['sqft'] = df['sqft'].astype(float)\n",
    "\n",
    "df.drop(df[\n",
    "(df['sqft'] > 10000) |\n",
    "(df['sqft'] <= 100)\n",
    "].index, inplace=True)\n",
    "\n",
    "X=df.drop(['price'], axis=1)\n",
    "y=df['price']\n",
    "\n",
    "# for printing histograms\n",
    "X_dist = X\n",
    "y_dist = y\n",
    "\n",
    "\n",
    "# Fill a NaN cell with the mean value of its column\n",
    "from sklearn.impute import SimpleImputer\n",
    "imp = SimpleImputer(missing_values=np.nan, strategy='mean')\n",
    "imp.fit(X)\n",
    "X = imp.transform(X)\n",
    "X = X.astype(int)\n",
    "\n",
    "\n",
    "X_train, X_test , y_train, y_test = train_test_split(X,y,test_size=0.1, random_state=0)\n",
    "\n",
    "\n",
    "# Feature Selection with Feature Correlation\n",
    "# https://towardsdatascience.com/feature-selection-correlation-and-p-value-da8921bfb3cf\n",
    "# remove features that have correlation >= 0.5\n",
    "# corr = X_train.corr()\n",
    "# sn.heatmap(corr)\n",
    "# columns = np.full((corr.shape[0],), True, dtype=bool)\n",
    "# for i in range(corr.shape[0]):\n",
    "#     for j in range(i+1, corr.shape[0]):\n",
    "#         if corr.iloc[i,j] >= 0.5:\n",
    "#             if columns[j]:\n",
    "#                 columns[j] = False\n",
    "                \n",
    "# selected_columns = X_train.columns[columns-1]\n",
    "# X_train = X_train[selected_columns]\n",
    "# X_test = X_test[selected_columns]\n",
    "# print(X_train.columns)\n",
    "\n",
    "# Scaling\n",
    "from sklearn.preprocessing import StandardScaler\n",
    "scaler = StandardScaler()\n",
    "scaler.fit(X_train)\n",
    "X_train = scaler.transform(X_train)\n",
    "X_test = scaler.transform(X_test)\n",
    "\n",
    "# Normalizing\n",
    "# from sklearn.preprocessing import Normalizer\n",
    "# norm = Normalizer()\n",
    "# norm.fit(X_train)\n",
    "# X_train = norm.transform(X_train)\n",
    "# X_test = norm.transform(X_test)\n",
    "\n"
   ]
  },
  {
   "cell_type": "markdown",
   "metadata": {},
   "source": [
    "### Feature Selection (1)\n",
    "+ is the process of selecting a subset of relevant features (variables, predictors) for use in model construction. Feature selection techniques are used for several reasons:\n",
    "\n",
    "    + simplification of models to make them easier to interpret,\n",
    "    + shorter training times,\n",
    "    + to avoid the <u><b>curse of dimensionality</u></b>(2),\n",
    "        + when the dimension of the feature space (feature vector) increases, the volume of the space increases so fast that the available data become sparse. This sparsity is problematic for any method that requires statistical significance. In order to obtain a statistically sound and reliable result, the amount of data needed to support the result often grows exponentially with the dimensionality.\n",
    "        + there should be at least 5 training examples for each dimension\n",
    "    + enhanced generalization by reducing overfitting (formally, reduction of variance)\n",
    "    \n",
    "<font color='red'>Feature selection doesn't seem to improve accuracy at all, unlike reducing number of label that leads to more examples for each label to predict.</font>\n",
    "\n",
    "#### Correlation (3):\n",
    "\n",
    "Type | Correlation Score | Description\n",
    ":---: | :---: | :---:\n",
    "Perfect | near ± 1 | as one variable increases, the other variable tends to also increase (if positive) or decrease (if negative).\n",
    "High degree | [± 0.50, ± 1) | it is said to be a strong correlation.\n",
    "Moderate degree | [ ± 0.30, ± 0.49] | it is said to be a medium correlation.\n",
    "Low degree | below + .29 | small correlation.\n",
    "No correlation | 0\n",
    "\n",
    "\n",
    "(1) https://en.wikipedia.org/wiki/Feature_selection\n",
    "\n",
    "(2) https://en.wikipedia.org/wiki/Curse_of_dimensionality\n",
    "\n",
    "(3) https://www.statisticssolutions.com/pearsons-correlation-coefficient/"
   ]
  },
  {
   "cell_type": "markdown",
   "metadata": {},
   "source": [
    "<a id='neural'></a>\n",
    "# Neural Network\n",
    "[top of page](#top)"
   ]
  },
  {
   "cell_type": "code",
   "execution_count": 26,
   "metadata": {},
   "outputs": [
    {
     "name": "stdout",
     "output_type": "stream",
     "text": [
      "0.6783187682064087\n"
     ]
    }
   ],
   "source": [
    "mlp=MLPClassifier(activation='relu',solver='adam', alpha = 0.0001,\n",
    "                  max_iter=5000,learning_rate='constant', batch_size=256,\n",
    "                  hidden_layer_sizes=(100),\n",
    "                  random_state=0)\n",
    "\n",
    "mlp.fit(X_train,y_train)\n",
    "mlp_prediction=mlp.predict(X_test)\n",
    "print(mlp.score(X_test,y_test))\n",
    "cf=confusion_matrix(y_test,mlp_prediction)\n",
    "\n",
    "\n",
    "plt.imshow(cf,cmap='binary', interpolation='None')\n",
    "plt.show()\n",
    "pd.crosstab(y_test, mlp_prediction, rownames=['True'],colnames=['Predicted'], margins=True)\n",
    "\n",
    "# Optimal\n",
    "# {'activation': 'relu', 'alpha': 0.0001, 'batch_size': 256, 'learning_rate': 'constant', 'solver': 'adam'}\n",
    "# ['mean_fit_time', 'mean_score_time', 'mean_test_score', 'param_activation', 'param_alpha', 'param_batch_size', 'param_learning_rate', 'param_solver', 'params', 'rank_test_score', 'split0_test_score', 'split1_test_score', 'split2_test_score', 'split3_test_score', 'split4_test_score', 'std_fit_time', 'std_score_time', 'std_test_score']\n",
    "\n"
   ]
  },
  {
   "cell_type": "code",
   "execution_count": 27,
   "metadata": {
    "scrolled": true
   },
   "outputs": [
    {
     "data": {
      "text/plain": [
       "(0.7031127144905416, 0.6783187682064087)"
      ]
     },
     "execution_count": 27,
     "metadata": {},
     "output_type": "execute_result"
    }
   ],
   "source": [
    "mlp.score(X_train, y_train), mlp.score(X_test, y_test)\n"
   ]
  },
  {
   "cell_type": "code",
   "execution_count": 24,
   "metadata": {
    "scrolled": true
   },
   "outputs": [
    {
     "data": {
      "text/plain": [
       "<matplotlib.axes._subplots.AxesSubplot at 0x7f13b06a66d0>"
      ]
     },
     "execution_count": 24,
     "metadata": {},
     "output_type": "execute_result"
    },
    {
     "data": {
      "image/png": "[encoded data removed]",
      "text/plain": [
       "<Figure size 720x504 with 2 Axes>"
      ]
     },
     "metadata": {
      "needs_background": "light"
     },
     "output_type": "display_data"
    }
   ],
   "source": [
    "ann_cm = pd.DataFrame(cf, index = [i for i in range(0, max(y_train))],\n",
    "                  columns = [i for i in range(0, max(y_train))])\n",
    "\n",
    "plt.figure(figsize = (10,7))\n",
    "sn.heatmap(ann_cm, annot=True)\n"
   ]
  },
  {
   "cell_type": "code",
   "execution_count": 14,
   "metadata": {},
   "outputs": [
    {
     "data": {
      "text/html": [
       "<div>\n",
       "<style scoped>\n",
       "    .dataframe tbody tr th:only-of-type {\n",
       "        vertical-align: middle;\n",
       "    }\n",
       "\n",
       "    .dataframe tbody tr th {\n",
       "        vertical-align: top;\n",
       "    }\n",
       "\n",
       "    .dataframe thead th {\n",
       "        text-align: right;\n",
       "    }\n",
       "</style>\n",
       "<table border=\"1\" class=\"dataframe\">\n",
       "  <thead>\n",
       "    <tr style=\"text-align: right;\">\n",
       "      <th>Predicted</th>\n",
       "      <th>1</th>\n",
       "      <th>2</th>\n",
       "      <th>3</th>\n",
       "      <th>4</th>\n",
       "      <th>All</th>\n",
       "    </tr>\n",
       "    <tr>\n",
       "      <th>True</th>\n",
       "      <th></th>\n",
       "      <th></th>\n",
       "      <th></th>\n",
       "      <th></th>\n",
       "      <th></th>\n",
       "    </tr>\n",
       "  </thead>\n",
       "  <tbody>\n",
       "    <tr>\n",
       "      <th>1</th>\n",
       "      <td>293</td>\n",
       "      <td>117</td>\n",
       "      <td>14</td>\n",
       "      <td>4</td>\n",
       "      <td>428</td>\n",
       "    </tr>\n",
       "    <tr>\n",
       "      <th>2</th>\n",
       "      <td>106</td>\n",
       "      <td>542</td>\n",
       "      <td>148</td>\n",
       "      <td>23</td>\n",
       "      <td>819</td>\n",
       "    </tr>\n",
       "    <tr>\n",
       "      <th>3</th>\n",
       "      <td>8</td>\n",
       "      <td>127</td>\n",
       "      <td>577</td>\n",
       "      <td>100</td>\n",
       "      <td>812</td>\n",
       "    </tr>\n",
       "    <tr>\n",
       "      <th>4</th>\n",
       "      <td>2</td>\n",
       "      <td>13</td>\n",
       "      <td>104</td>\n",
       "      <td>225</td>\n",
       "      <td>344</td>\n",
       "    </tr>\n",
       "    <tr>\n",
       "      <th>All</th>\n",
       "      <td>409</td>\n",
       "      <td>799</td>\n",
       "      <td>843</td>\n",
       "      <td>352</td>\n",
       "      <td>2403</td>\n",
       "    </tr>\n",
       "  </tbody>\n",
       "</table>\n",
       "</div>"
      ],
      "text/plain": [
       "Predicted    1    2    3    4   All\n",
       "True                               \n",
       "1          293  117   14    4   428\n",
       "2          106  542  148   23   819\n",
       "3            8  127  577  100   812\n",
       "4            2   13  104  225   344\n",
       "All        409  799  843  352  2403"
      ]
     },
     "execution_count": 14,
     "metadata": {},
     "output_type": "execute_result"
    }
   ],
   "source": [
    "pd.crosstab(y_test, mlp_prediction, rownames=['True'],colnames=['Predicted'], margins=True)"
   ]
  },
  {
   "cell_type": "markdown",
   "metadata": {},
   "source": [
    "# GridSearchCV (slow)"
   ]
  },
  {
   "cell_type": "code",
   "execution_count": 22,
   "metadata": {},
   "outputs": [
    {
     "name": "stdout",
     "output_type": "stream",
     "text": [
      "Fitting 5 folds for each of 216 candidates, totalling 1080 fits\n"
     ]
    },
    {
     "name": "stderr",
     "output_type": "stream",
     "text": [
      "[Parallel(n_jobs=4)]: Using backend LokyBackend with 4 concurrent workers.\n",
      "[Parallel(n_jobs=4)]: Done   5 tasks      | elapsed:    4.3s\n",
      "[Parallel(n_jobs=4)]: Done  10 tasks      | elapsed:  4.1min\n",
      "[Parallel(n_jobs=4)]: Done  17 tasks      | elapsed:  4.8min\n",
      "[Parallel(n_jobs=4)]: Done  24 tasks      | elapsed:  9.6min\n",
      "[Parallel(n_jobs=4)]: Done  33 tasks      | elapsed: 12.0min\n",
      "[Parallel(n_jobs=4)]: Done  42 tasks      | elapsed: 15.9min\n",
      "[Parallel(n_jobs=4)]: Done  53 tasks      | elapsed: 17.5min\n",
      "[Parallel(n_jobs=4)]: Done  64 tasks      | elapsed: 19.7min\n",
      "[Parallel(n_jobs=4)]: Done  77 tasks      | elapsed: 22.9min\n",
      "[Parallel(n_jobs=4)]: Done  90 tasks      | elapsed: 25.2min\n",
      "[Parallel(n_jobs=4)]: Done 105 tasks      | elapsed: 28.1min\n",
      "[Parallel(n_jobs=4)]: Done 120 tasks      | elapsed: 31.8min\n",
      "[Parallel(n_jobs=4)]: Done 137 tasks      | elapsed: 34.7min\n",
      "[Parallel(n_jobs=4)]: Done 154 tasks      | elapsed: 40.7min\n",
      "[Parallel(n_jobs=4)]: Done 173 tasks      | elapsed: 46.3min\n",
      "[Parallel(n_jobs=4)]: Done 192 tasks      | elapsed: 51.9min\n",
      "[Parallel(n_jobs=4)]: Done 213 tasks      | elapsed: 55.3min\n",
      "[Parallel(n_jobs=4)]: Done 234 tasks      | elapsed: 58.9min\n",
      "[Parallel(n_jobs=4)]: Done 257 tasks      | elapsed: 63.9min\n",
      "[Parallel(n_jobs=4)]: Done 280 tasks      | elapsed: 67.7min\n",
      "[Parallel(n_jobs=4)]: Done 305 tasks      | elapsed: 71.6min\n",
      "[Parallel(n_jobs=4)]: Done 330 tasks      | elapsed: 75.4min\n",
      "[Parallel(n_jobs=4)]: Done 357 tasks      | elapsed: 79.5min\n",
      "[Parallel(n_jobs=4)]: Done 384 tasks      | elapsed: 83.4min\n",
      "[Parallel(n_jobs=4)]: Done 413 tasks      | elapsed: 87.4min\n",
      "[Parallel(n_jobs=4)]: Done 442 tasks      | elapsed: 89.6min\n",
      "[Parallel(n_jobs=4)]: Done 473 tasks      | elapsed: 92.5min\n",
      "[Parallel(n_jobs=4)]: Done 504 tasks      | elapsed: 95.1min\n",
      "[Parallel(n_jobs=4)]: Done 537 tasks      | elapsed: 98.5min\n",
      "[Parallel(n_jobs=4)]: Done 570 tasks      | elapsed: 108.2min\n",
      "[Parallel(n_jobs=4)]: Done 605 tasks      | elapsed: 115.0min\n",
      "[Parallel(n_jobs=4)]: Done 640 tasks      | elapsed: 121.3min\n",
      "[Parallel(n_jobs=4)]: Done 677 tasks      | elapsed: 125.8min\n",
      "[Parallel(n_jobs=4)]: Done 714 tasks      | elapsed: 136.1min\n",
      "[Parallel(n_jobs=4)]: Done 753 tasks      | elapsed: 144.6min\n",
      "[Parallel(n_jobs=4)]: Done 792 tasks      | elapsed: 150.6min\n",
      "[Parallel(n_jobs=4)]: Done 833 tasks      | elapsed: 158.3min\n",
      "[Parallel(n_jobs=4)]: Done 874 tasks      | elapsed: 164.7min\n",
      "[Parallel(n_jobs=4)]: Done 917 tasks      | elapsed: 171.3min\n",
      "[Parallel(n_jobs=4)]: Done 960 tasks      | elapsed: 176.2min\n",
      "[Parallel(n_jobs=4)]: Done 1005 tasks      | elapsed: 180.7min\n",
      "[Parallel(n_jobs=4)]: Done 1050 tasks      | elapsed: 185.0min\n",
      "[Parallel(n_jobs=4)]: Done 1080 out of 1080 | elapsed: 188.0min finished\n"
     ]
    },
    {
     "data": {
      "text/plain": [
       "GridSearchCV(cv=5, error_score=nan,\n",
       "             estimator=MLPClassifier(activation='relu', alpha=0.0001,\n",
       "                                     batch_size=200, beta_1=0.9, beta_2=0.999,\n",
       "                                     early_stopping=False, epsilon=1e-08,\n",
       "                                     hidden_layer_sizes=100,\n",
       "                                     learning_rate='constant',\n",
       "                                     learning_rate_init=0.001, max_fun=15000,\n",
       "                                     max_iter=2000, momentum=0.9,\n",
       "                                     n_iter_no_change=10,\n",
       "                                     nesterovs_momentum=True, power_t=0.5,\n",
       "                                     random_state=0, sh...\n",
       "                                     validation_fraction=0.1, verbose=False,\n",
       "                                     warm_start=False),\n",
       "             iid='deprecated', n_jobs=4,\n",
       "             param_grid={'activation': ('logistic', 'relu'),\n",
       "                         'alpha': [0.0001, 0.001, 0.01, 0.1],\n",
       "                         'batch_size': [64, 128, 256],\n",
       "                         'learning_rate': ('constant', 'adaptive',\n",
       "                                           'invscaling'),\n",
       "                         'solver': ('lbfg', 'sgd', 'adam')},\n",
       "             pre_dispatch='2*n_jobs', refit=True, return_train_score=False,\n",
       "             scoring='accuracy', verbose=10)"
      ]
     },
     "execution_count": 22,
     "metadata": {},
     "output_type": "execute_result"
    }
   ],
   "source": [
    "# from sklearn.model_selection import GridSearchCV\n",
    "\n",
    "# # more grid search parameters -> extremely slow!!!!\n",
    "# # parameters = {\n",
    "# #     'alpha':[0.0031, 0.031], \n",
    "# #     'activation':('logistic', 'relu'),\n",
    "# #     'learning_rate':('constant','adaptive'),\n",
    "# #     'solver':('sgd','adam')\n",
    "# # }\n",
    "\n",
    "# parameters = {\n",
    "#     'alpha':[0.0001, 0.001, 0.01, 0.1], \n",
    "#     'activation':('logistic', 'relu'),\n",
    "#     'learning_rate':('constant','adaptive', 'invscaling'),\n",
    "#     'solver':('lbfg','sgd','adam'),\n",
    "#     'batch_size':[64,128,256]\n",
    "# }\n",
    "\n",
    "\n",
    "# mlp=MLPClassifier(max_iter=2000, batch_size=200,hidden_layer_sizes=100,random_state=0)\n",
    "                    \n",
    "# grid_search = GridSearchCV(estimator = mlp, param_grid = parameters, scoring = 'accuracy',\n",
    "#                            cv = 5,verbose=10, n_jobs=4)\n",
    "# grid_search.fit(X_train, y_train)\n",
    "\n"
   ]
  },
  {
   "cell_type": "code",
   "execution_count": 23,
   "metadata": {
    "scrolled": true
   },
   "outputs": [
    {
     "name": "stdout",
     "output_type": "stream",
     "text": [
      "0.6882197066514092\n",
      "{'activation': 'relu', 'alpha': 0.0001, 'batch_size': 256, 'learning_rate': 'constant', 'solver': 'adam'}\n",
      "['mean_fit_time', 'mean_score_time', 'mean_test_score', 'param_activation', 'param_alpha', 'param_batch_size', 'param_learning_rate', 'param_solver', 'params', 'rank_test_score', 'split0_test_score', 'split1_test_score', 'split2_test_score', 'split3_test_score', 'split4_test_score', 'std_fit_time', 'std_score_time', 'std_test_score']\n"
     ]
    }
   ],
   "source": [
    "best_accuracy = grid_search.best_score_\n",
    "best_parameters = grid_search.best_params_\n",
    "\n",
    "print(best_accuracy)\n",
    "print(best_parameters)\n",
    "print(sorted(grid_search.cv_results_.keys()))"
   ]
  },
  {
   "cell_type": "code",
   "execution_count": 30,
   "metadata": {},
   "outputs": [
    {
     "data": {
      "text/plain": [
       "array([0.00000000e+00, 8.82630273e-04, 6.94193121e-04, 0.00000000e+00,\n",
       "       1.39697777e-04, 1.63423538e-04, 0.00000000e+00, 1.96614341e-04,\n",
       "       5.35907170e-04, 0.00000000e+00, 2.48454289e-04, 4.72818930e-04,\n",
       "       0.00000000e+00, 1.67851380e-04, 3.85188130e-04, 0.00000000e+00,\n",
       "       2.07737182e-04, 2.74805577e-04, 0.00000000e+00, 2.99804779e-04,\n",
       "       1.10510827e-03, 0.00000000e+00, 1.25761640e-04, 6.72612227e-04,\n",
       "       0.00000000e+00, 4.74927272e-04, 5.58573580e-04, 0.00000000e+00,\n",
       "       9.94866081e-05, 2.05344407e-04, 0.00000000e+00, 4.42403656e-04,\n",
       "       2.85074454e-04, 0.00000000e+00, 2.82669429e-04, 4.52649200e-04,\n",
       "       0.00000000e+00, 3.80530303e-04, 9.26876530e-03, 0.00000000e+00,\n",
       "       1.71192934e-04, 2.82159378e-04, 0.00000000e+00, 5.47645444e-04,\n",
       "       4.50237755e-04, 0.00000000e+00, 5.32333059e-04, 6.03675115e-04,\n",
       "       0.00000000e+00, 4.02073197e-04, 7.59941366e-03, 0.00000000e+00,\n",
       "       2.96016322e-04, 6.75446582e-04, 0.00000000e+00, 1.67774895e-04,\n",
       "       1.43940380e-03, 0.00000000e+00, 7.82258588e-05, 3.85528050e-03,\n",
       "       0.00000000e+00, 2.35888667e-04, 3.80817004e-04, 0.00000000e+00,\n",
       "       3.41161608e-04, 2.77071991e-04, 0.00000000e+00, 8.61397160e-04,\n",
       "       5.70785332e-04, 0.00000000e+00, 2.21706379e-04, 7.95385820e-05,\n",
       "       0.00000000e+00, 1.89178254e-04, 2.69217944e-04, 0.00000000e+00,\n",
       "       3.60000118e-04, 6.45211134e-04, 0.00000000e+00, 2.95148042e-04,\n",
       "       2.12265420e-04, 0.00000000e+00, 2.63200661e-04, 4.47127551e-04,\n",
       "       0.00000000e+00, 7.16923444e-03, 1.45548839e-04, 0.00000000e+00,\n",
       "       4.10701608e-04, 2.63027742e-04, 0.00000000e+00, 4.48805294e-04,\n",
       "       1.93289599e-04, 0.00000000e+00, 5.02021434e-04, 2.61007611e-04,\n",
       "       0.00000000e+00, 6.45046132e-03, 3.98506555e-04, 0.00000000e+00,\n",
       "       5.11260665e-04, 4.21931304e-04, 0.00000000e+00, 4.44337563e-04,\n",
       "       5.48454513e-04, 0.00000000e+00, 2.27088939e-04, 3.62903265e-04,\n",
       "       0.00000000e+00, 2.54120359e-04, 1.25170671e-04, 0.00000000e+00,\n",
       "       2.73853728e-04, 2.81882601e-03, 0.00000000e+00, 2.23991564e-04,\n",
       "       1.38235051e-04, 0.00000000e+00, 2.45388176e-04, 1.49468561e-04,\n",
       "       0.00000000e+00, 2.14446102e-04, 1.43131027e-04, 0.00000000e+00,\n",
       "       5.22070602e-04, 1.28961278e-03, 0.00000000e+00, 2.57348427e-04,\n",
       "       3.14977671e-04, 0.00000000e+00, 3.42722487e-04, 4.50921472e-04,\n",
       "       0.00000000e+00, 3.28534732e-04, 2.87208192e-04, 0.00000000e+00,\n",
       "       1.93096737e-04, 2.74369606e-04, 0.00000000e+00, 2.22549684e-04,\n",
       "       2.66134151e-04, 0.00000000e+00, 2.26499909e-04, 2.01454789e-04,\n",
       "       0.00000000e+00, 1.45510717e-04, 4.17075765e-04, 0.00000000e+00,\n",
       "       3.47429509e-04, 1.96719191e-04, 0.00000000e+00, 2.68729220e-04,\n",
       "       2.19463772e-04, 0.00000000e+00, 3.00342704e-04, 1.96755897e-04,\n",
       "       0.00000000e+00, 2.38099046e-04, 3.43171570e-04, 0.00000000e+00,\n",
       "       1.86658294e-04, 6.40308239e-04, 0.00000000e+00, 2.86506590e-04,\n",
       "       2.95401424e-04, 0.00000000e+00, 9.84237868e-05, 2.63228563e-04,\n",
       "       0.00000000e+00, 2.48940163e-04, 1.93353064e-04, 0.00000000e+00,\n",
       "       2.27794678e-04, 5.01211428e-05, 0.00000000e+00, 1.94200186e-04,\n",
       "       1.27088992e-04, 0.00000000e+00, 1.77210742e-04, 2.90379485e-04,\n",
       "       0.00000000e+00, 3.17483788e-04, 1.28924385e-03, 0.00000000e+00,\n",
       "       2.84710463e-04, 4.37184336e-04, 0.00000000e+00, 1.85122200e-04,\n",
       "       2.12981888e-04, 0.00000000e+00, 2.02953983e-04, 3.65357118e-04,\n",
       "       0.00000000e+00, 2.66626327e-04, 3.30714171e-04, 0.00000000e+00,\n",
       "       5.99635090e-04, 2.91266758e-04, 0.00000000e+00, 3.19141578e-04,\n",
       "       1.30927501e-04, 0.00000000e+00, 2.38315531e-04, 1.45143346e-03,\n",
       "       0.00000000e+00, 3.13824064e-04, 1.52352794e-03, 0.00000000e+00,\n",
       "       1.78214697e-04, 5.64511105e-04, 0.00000000e+00, 2.18249393e-04,\n",
       "       2.03799142e-04, 0.00000000e+00, 3.55655432e-04, 2.46336993e-03])"
      ]
     },
     "execution_count": 30,
     "metadata": {},
     "output_type": "execute_result"
    }
   ],
   "source": []
  },
  {
   "cell_type": "markdown",
   "metadata": {},
   "source": [
    "<a id='notes'></a>\n",
    "# <u>Notes</u>\n",
    "\n",
    "\n",
    "[top of page](#top)\n",
    "\n",
    "\n",
    "#### Model not learning\n",
    "http://theorangeduck.com/page/neural-network-not-working#normalize\n",
    "\n",
    "### Multi-Class Neural Networks (1)\n",
    "\n",
    "Pick from multiple possibilities: Is this an image of an apple, bear, candy, dog, or egg?\n",
    " \n",
    "<b> One vs. All </b>\n",
    "+ provides a way to leverage binary classification. Given a classification problem with N possible solutions, a one-vs.-all solution consists of N separate binary classifiers—one binary classifier for each possible outcome.\n",
    "    1. Is this image an apple? No.\n",
    "    + Is this image a bear? No.\n",
    "    + Is this image candy? No.\n",
    "    + Is this image a dog? Yes.\n",
    "    + Is this image an egg? No.\n",
    "    \n",
    "+ This approach is fairly reasonable when the total number of classes is small, but becomes increasingly inefficient as the number of classes rises.\n",
    "\n",
    "\n",
    "### Activation Functions \n",
    "\n",
    "+ SoftMax (1)\n",
    "    + LogReg produces an output in the range [0,1.0] (binary classification), softmax extends this idea by assigning probability to each class (for n classes, $\\sum_{i=0}^n P_i = 1.0$).\n",
    "    + Softmax assumes that each example is a member of <u>exactly one class</u>.\n",
    "        + Use LogReg instead if examples are member of multiple classes.\n",
    "    + Advantanges (2)\n",
    "        + Able to handle multiple classes only one class in other activation functions—normalizes the outputs for each class between 0 and 1, and divides by their sum, giving the probability of the input value being in a specific class.\n",
    "        + Useful for output neurons—typically Softmax is used only for the output layer, for neural networks that need to classify inputs into multiple categories.\n",
    "\n",
    "   \n",
    "   \n",
    "(1) https://developers.google.com/machine-learning/crash-course/multi-class-neural-networks/one-vs-all\n",
    "\n",
    "(2) https://missinglink.ai/guides/neural-network-concepts/7-types-neural-network-activation-functions-right/\n"
   ]
  },
  {
   "cell_type": "markdown",
   "metadata": {},
   "source": [
    "<a id='keras'></a>\n",
    "## Keras ANN\n",
    "[top of page](#top)\n",
    "\n",
    "+ A more scalable and advanced NN model \n",
    "+ Can manually tweak each layer\n",
    "+ Sometimes need to restart the kernel to clear saved variables/models\n",
    "\n",
    "+ Dropout = regularization technique for reducing overfitting.\n",
    "    + The term \"dropout\" refers to dropping out units (both hidden and visible) in a neural network\n",
    "   "
   ]
  },
  {
   "cell_type": "code",
   "execution_count": null,
   "metadata": {},
   "outputs": [],
   "source": [
    "from tensorflow.keras.models import Sequential\n",
    "from tensorflow.keras.layers import Dense, Dropout\n",
    "\n",
    "X_train = np.array(X_train)\n",
    "y_train = np.array(y_train)\n",
    "\n",
    "# #https://keras.io/models/sequential/\n",
    "\n",
    "from tensorflow.keras import optimizers\n",
    "model = Sequential()\n",
    "model.add(Dense(512, activation='relu'))\n",
    "# model.add(Dropout(0.5))\n",
    "model.add(Dense(256, activation='relu'))\n",
    "model.add(Dense(128, activation='relu'))\n",
    "# model.add(Dropout(0.5))\n",
    "model.add(Dense(64, activation='relu'))\n",
    "model.add(Dense(32, activation='relu'))\n",
    "model.add(Dense(5, activation='softmax'))\n",
    "\n",
    "sgd = optimizers.SGD(lr=0.01, decay=1e-6, momentum=0.8, nesterov=True)\n",
    "adam = optimizers.Adam(learning_rate=0.001, beta_1=0.9, beta_2=0.999, amsgrad=True)\n",
    "model.compile(loss='sparse_categorical_crossentropy', optimizer=adam, metrics=['accuracy'])\n",
    "\n",
    "\n",
    "# try: epochs 200\n",
    "model.fit(X_train, y_train, epochs=100, batch_size=300)\n",
    "\n",
    "# 0.7653 adam\n",
    "\n",
    "# 10% split 0.7387 train, 0.6950 test\n",
    "\n",
    "# 28,564 examples.. what is a good batch size?"
   ]
  },
  {
   "cell_type": "code",
   "execution_count": null,
   "metadata": {},
   "outputs": [],
   "source": [
    "y_pred = model.predict(X_train)\n",
    "\n",
    "model.evaluate(X_test, y_test.values, verbose=0)"
   ]
  },
  {
   "cell_type": "code",
   "execution_count": null,
   "metadata": {
    "scrolled": true
   },
   "outputs": [],
   "source": [
    "# model.metrics.sparse_top_k_categorical_accuracy(y_true, y_pred, k=5)\n",
    "from sklearn import metrics\n",
    "\n",
    "y_pred_float = model.predict(X_test)\n",
    "y_pred = []\n",
    "for i in y_pred_float:\n",
    "    y_pred.append(int(np.argmax(i)))\n",
    "\n",
    "# y_pred\n",
    "# print(\"Acc. score: \", metrics.accuracy_score(y_test, y_pred))\n",
    "\n",
    "cf=confusion_matrix(y_test.values, y_pred)\n",
    "ann_cm = pd.DataFrame(cf, index = [i for i in range(0, max(y_train))],\n",
    "                  columns = [i for i in range(0, max(y_train))])\n",
    "\n",
    "plt.figure(figsize = (10,7))\n",
    "sn.heatmap(ann_cm, annot=True)\n"
   ]
  },
  {
   "cell_type": "code",
   "execution_count": null,
   "metadata": {},
   "outputs": [],
   "source": [
    "# print(\"Class Predictions: \")\n",
    "# classes = [i for i in range(0, max(y_train))]\n",
    "# for i in classes:\n",
    "#     print(i,\"\\t \", end=\"\")\n",
    "# print(\"\\n\")\n",
    "    \n",
    "# for index, i in enumerate(classifier.predict(X_test)):\n",
    "#     for j in i:\n",
    "#         print('%.3f\\t' % j, end=\"\")\n",
    "#     print(\"\\tpredicted: \", np.argwhere(i==max(i))[0][0],\" actual: \", y_test.iloc[index], \"\\n\")\n",
    "\n",
    "# model.evaluate(X_test, y_test.values, verbose=0, use_multiprocessing=True)\n",
    "df = pd.DataFrame({'True':y_test.values, 'Predicted':y_pred})\n",
    "# df = df.reindex(index=y_test.values, columns=y_pred, fill_value=0)\n",
    "pd.crosstab(df['True'], df['Predicted'], margins=True)"
   ]
  },
  {
   "cell_type": "markdown",
   "metadata": {},
   "source": [
    "### Helper Functions"
   ]
  },
  {
   "cell_type": "code",
   "execution_count": null,
   "metadata": {},
   "outputs": [],
   "source": [
    "from matplotlib import pyplot as plt\n",
    "\n",
    "# Calculate train vs test error of a classifier.\n",
    "def calculate_errors(classifier, parameter, param_range, X_train, y_train, X_test, y_test):\n",
    "    train_errors = list()\n",
    "    test_errors = list()\n",
    "    for i in param_range:\n",
    "        eval('classifier.set_params(' + parameter + '=i)')\n",
    "        classifier.fit(X_train, y_train)\n",
    "        train_errors.append(classifier.score(X_train, y_train))\n",
    "        test_errors.append(classifier.score(X_test, y_test))\n",
    "    return (train_errors, test_errors)\n",
    "\n",
    "def graph_train_test_errors(train_errors, test_errors, param, param_range, title):\n",
    "    lw = 2\n",
    "    plt.plot(param_range, train_errors, label=\"Train\",color=\"darkorange\", lw=lw)\n",
    "    plt.plot(param_range, test_errors, label=\"Test\",  color=\"navy\", lw=lw)\n",
    "    plt.legend(loc='center left', bbox_to_anchor=(1, 0.5))\n",
    "    plt.title(title)\n",
    "    plt.xlabel('Number of ' + param.upper())\n",
    "    plt.ylabel('Accuracy')\n",
    "    plt.autoscale()\n",
    "    plt.show()\n",
    "    \n",
    "# shuffle two lists with same order\n",
    "# Author: Francesco Montesano \n",
    "# source: https://stackoverflow.com/questions/23289547/shuffle-two-list-at-once-with-same-order\n",
    "def shuffle_in_unison(a, b):\n",
    "    n_elem = a.shape[0]\n",
    "    indices = np.random.choice(n_elem, size=n_elem, replace=False)\n",
    "    return a[indices], b[indices]"
   ]
  },
  {
   "cell_type": "code",
   "execution_count": null,
   "metadata": {},
   "outputs": [],
   "source": []
  },
  {
   "cell_type": "code",
   "execution_count": null,
   "metadata": {},
   "outputs": [],
   "source": []
  }
 ],
 "metadata": {
  "kernelspec": {
   "display_name": "Python 3",
   "language": "python",
   "name": "python3"
  },
  "language_info": {
   "codemirror_mode": {
    "name": "ipython",
    "version": 3
   },
   "file_extension": ".py",
   "mimetype": "text/x-python",
   "name": "python",
   "nbconvert_exporter": "python",
   "pygments_lexer": "ipython3",
   "version": "3.7.4"
  },
  "varInspector": {
   "cols": {
    "lenName": 16,
    "lenType": 16,
    "lenVar": 40
   },
   "kernels_config": {
    "python": {
     "delete_cmd_postfix": "",
     "delete_cmd_prefix": "del ",
     "library": "var_list.py",
     "varRefreshCmd": "print(var_dic_list())"
    },
    "r": {
     "delete_cmd_postfix": ") ",
     "delete_cmd_prefix": "rm(",
     "library": "var_list.r",
     "varRefreshCmd": "cat(var_dic_list()) "
    }
   },
   "types_to_exclude": [
    "module",
    "function",
    "builtin_function_or_method",
    "instance",
    "_Feature"
   ],
   "window_display": false
  }
 },
 "nbformat": 4,
 "nbformat_minor": 4
}
